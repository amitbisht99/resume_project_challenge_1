{
  "nbformat": 4,
  "nbformat_minor": 0,
  "metadata": {
    "colab": {
      "provenance": [],
      "authorship_tag": "ABX9TyN5mrwVS3/oEBeonPwtUAzR",
      "include_colab_link": true
    },
    "kernelspec": {
      "name": "python3",
      "display_name": "Python 3"
    },
    "language_info": {
      "name": "python"
    }
  },
  "cells": [
    {
      "cell_type": "markdown",
      "metadata": {
        "id": "view-in-github",
        "colab_type": "text"
      },
      "source": [
        "<a href=\"https://colab.research.google.com/github/amitbisht99/resume_project_challenge_1/blob/main/fact_bookings_table.ipynb\" target=\"_parent\"><img src=\"https://colab.research.google.com/assets/colab-badge.svg\" alt=\"Open In Colab\"/></a>"
      ]
    },
    {
      "cell_type": "code",
      "execution_count": 1,
      "metadata": {
        "id": "aOFoaC_HFT25"
      },
      "outputs": [],
      "source": [
        "import pandas as pd\n",
        "import numpy as np\n",
        "import matplotlib.pyplot as plt\n",
        "import seaborn as sns"
      ]
    },
    {
      "cell_type": "code",
      "source": [
        "df1 = pd.read_csv (\"/content/fact_bookings.csv\")"
      ],
      "metadata": {
        "id": "dxztMgywFftW"
      },
      "execution_count": 2,
      "outputs": []
    },
    {
      "cell_type": "markdown",
      "source": [
        "# **Data Exploration**"
      ],
      "metadata": {
        "id": "i9lRmyOiFrkY"
      }
    },
    {
      "cell_type": "code",
      "source": [
        "print (f\"There are\", df1.shape[0], \"rows in the dataset.\")"
      ],
      "metadata": {
        "colab": {
          "base_uri": "https://localhost:8080/"
        },
        "id": "ZyGRXIO7Fq4T",
        "outputId": "890836e1-c382-4cc1-b19c-e3d8e2cde658"
      },
      "execution_count": 3,
      "outputs": [
        {
          "output_type": "stream",
          "name": "stdout",
          "text": [
            "There are 134590 rows in the dataset.\n"
          ]
        }
      ]
    },
    {
      "cell_type": "code",
      "source": [
        "print (f\"There are\", df1.shape[1], \"columns in the dataset.\")"
      ],
      "metadata": {
        "colab": {
          "base_uri": "https://localhost:8080/"
        },
        "id": "n38v0fx7Flv6",
        "outputId": "38602ba5-0504-490f-e7c8-849898b3eb68"
      },
      "execution_count": 4,
      "outputs": [
        {
          "output_type": "stream",
          "name": "stdout",
          "text": [
            "There are 12 columns in the dataset.\n"
          ]
        }
      ]
    },
    {
      "cell_type": "code",
      "source": [
        "print (f\"The total size of dataset is\", df1.size, \".\")"
      ],
      "metadata": {
        "colab": {
          "base_uri": "https://localhost:8080/"
        },
        "id": "Chka7a7-GCeU",
        "outputId": "b86e78b5-859d-45f1-e27f-0caeb611b86d"
      },
      "execution_count": 5,
      "outputs": [
        {
          "output_type": "stream",
          "name": "stdout",
          "text": [
            "The total size of dataset is 1615080 .\n"
          ]
        }
      ]
    },
    {
      "cell_type": "code",
      "source": [
        "df1.info()"
      ],
      "metadata": {
        "colab": {
          "base_uri": "https://localhost:8080/"
        },
        "id": "a5Ox2EBgGRgd",
        "outputId": "e143a0e7-3e9d-425c-aab5-aa4891f166dc"
      },
      "execution_count": 6,
      "outputs": [
        {
          "output_type": "stream",
          "name": "stdout",
          "text": [
            "<class 'pandas.core.frame.DataFrame'>\n",
            "RangeIndex: 134590 entries, 0 to 134589\n",
            "Data columns (total 12 columns):\n",
            " #   Column             Non-Null Count   Dtype  \n",
            "---  ------             --------------   -----  \n",
            " 0   booking_id         134590 non-null  object \n",
            " 1   property_id        134590 non-null  int64  \n",
            " 2   booking_date       134590 non-null  object \n",
            " 3   check_in_date      134590 non-null  object \n",
            " 4   checkout_date      134590 non-null  object \n",
            " 5   no_guests          134590 non-null  int64  \n",
            " 6   room_category      134590 non-null  object \n",
            " 7   booking_platform   134590 non-null  object \n",
            " 8   ratings_given      56683 non-null   float64\n",
            " 9   booking_status     134590 non-null  object \n",
            " 10  revenue_generated  134590 non-null  int64  \n",
            " 11  revenue_realized   134590 non-null  int64  \n",
            "dtypes: float64(1), int64(4), object(7)\n",
            "memory usage: 12.3+ MB\n"
          ]
        }
      ]
    },
    {
      "cell_type": "markdown",
      "source": [
        "# **Data Cleaning**"
      ],
      "metadata": {
        "id": "DeAyshLFG5LA"
      }
    },
    {
      "cell_type": "markdown",
      "source": [
        "## **Handling Missing Values**"
      ],
      "metadata": {
        "id": "ctTQNL4cG_9J"
      }
    },
    {
      "cell_type": "code",
      "source": [
        "# searching columns with missing values\n",
        "print (f\"Columns with Missing Values -\\n\", df1.columns[df1.isna().any()].tolist())"
      ],
      "metadata": {
        "colab": {
          "base_uri": "https://localhost:8080/"
        },
        "id": "9DV4Eh4YGeHU",
        "outputId": "4497fe1a-4902-4d7d-9677-b2c0526cae4d"
      },
      "execution_count": 9,
      "outputs": [
        {
          "output_type": "stream",
          "name": "stdout",
          "text": [
            "Columns with Missing Values -\n",
            " ['ratings_given']\n"
          ]
        }
      ]
    },
    {
      "cell_type": "code",
      "source": [
        "# total no. of missing values in the column\n",
        "print (f\"There are\", df1['ratings_given'].isna().sum(), \"missing values in the [ratings_given] column.\")"
      ],
      "metadata": {
        "colab": {
          "base_uri": "https://localhost:8080/"
        },
        "id": "CmIwbpoCHX9_",
        "outputId": "187c3645-b3e9-4b02-d94b-9ee7e22d8b24"
      },
      "execution_count": 12,
      "outputs": [
        {
          "output_type": "stream",
          "name": "stdout",
          "text": [
            "There are 77907 missing values in the [ratings_given] column.\n"
          ]
        }
      ]
    },
    {
      "cell_type": "code",
      "source": [
        "# total % of missing values in the column\n",
        "print (f\"There are\", round((df1['ratings_given'].isna().sum()/df1.shape[0])*100),\"% missing values in the [ratings_given] column.\")"
      ],
      "metadata": {
        "colab": {
          "base_uri": "https://localhost:8080/"
        },
        "id": "6dPQw00QH2ZL",
        "outputId": "9acf06b4-e9f0-446d-8404-6131842fb7d0"
      },
      "execution_count": 14,
      "outputs": [
        {
          "output_type": "stream",
          "name": "stdout",
          "text": [
            "There are 58 % missing values in the [ratings_given] column.\n"
          ]
        }
      ]
    },
    {
      "cell_type": "code",
      "source": [
        "# visualing missing values in the dataset\n",
        "import missingno as msn\n",
        "msn.matrix (df1)\n",
        "plt.show()"
      ],
      "metadata": {
        "colab": {
          "base_uri": "https://localhost:8080/",
          "height": 859
        },
        "collapsed": true,
        "id": "CXbzdT4MIkGo",
        "outputId": "dd45f371-daa8-48f8-e481-eb67f32a39ae"
      },
      "execution_count": 15,
      "outputs": [
        {
          "output_type": "display_data",
          "data": {
            "text/plain": [
              "<Figure size 2500x1000 with 2 Axes>"
            ],
            "image/png": "[encoded data removed]"
          },
          "metadata": {}
        }
      ]
    },
    {
      "cell_type": "code",
      "source": [
        "# deleted the column with missing values\n",
        "df1.drop('ratings_given', axis=1, inplace=True)"
      ],
      "metadata": {
        "id": "WdLOpCC9IzXD"
      },
      "execution_count": 16,
      "outputs": []
    },
    {
      "cell_type": "code",
      "source": [
        "# confirming about columns with missing values in the dataset\n",
        "if df1.isna().any().any():\n",
        "    print(f\"Columns with missing values are -\\n\", df1.columns[df1.isna().any()].tolist())\n",
        "else:\n",
        "    print(\"No Columns with missing values found.\")"
      ],
      "metadata": {
        "colab": {
          "base_uri": "https://localhost:8080/"
        },
        "id": "8epkpvUiI5wC",
        "outputId": "f113764a-a8c6-478a-a70a-6ff81cc8431e"
      },
      "execution_count": 18,
      "outputs": [
        {
          "output_type": "stream",
          "name": "stdout",
          "text": [
            "No Columns with missing values found.\n"
          ]
        }
      ]
    },
    {
      "cell_type": "markdown",
      "source": [
        "## **Handling Outlier**"
      ],
      "metadata": {
        "id": "g1OszYzkKf1h"
      }
    },
    {
      "cell_type": "markdown",
      "source": [
        "### Column: property_id"
      ],
      "metadata": {
        "id": "4_Tw0hCqKuib"
      }
    },
    {
      "cell_type": "code",
      "source": [
        "# checking outliers\n",
        "suspect_cols = ['property_id']\n",
        "for col in suspect_cols:\n",
        "    Q1 = df1[col].quantile(0.25)\n",
        "    Q3 = df1[col].quantile(0.75)\n",
        "    IQR = Q3 - Q1\n",
        "\n",
        "    lower_bound = Q1 - 1.5 * IQR\n",
        "    upper_bound = Q3 + 1.5 * IQR\n",
        "\n",
        "    # Filter the DataFrame using boolean indexing\n",
        "    outliers = df1[(df1[col] < lower_bound) | (df1[col] > upper_bound)]\n",
        "\n",
        "    if not outliers.empty:\n",
        "        print(f\"Outliers in {col}:\\n{outliers}\")\n",
        "    else:\n",
        "        print(f\"No outliers found in {col}\")"
      ],
      "metadata": {
        "colab": {
          "base_uri": "https://localhost:8080/"
        },
        "id": "Wg4ZiIXeI92c",
        "outputId": "9f43e629-6c16-448e-c52d-367b4058c12b"
      },
      "execution_count": 19,
      "outputs": [
        {
          "output_type": "stream",
          "name": "stdout",
          "text": [
            "No outliers found in property_id\n"
          ]
        }
      ]
    },
    {
      "cell_type": "markdown",
      "source": [
        "### Column: no_guests"
      ],
      "metadata": {
        "id": "wZct2jBqK4yc"
      }
    },
    {
      "cell_type": "code",
      "source": [
        "# checking outliers\n",
        "suspect_cols = ['no_guests']\n",
        "for col in suspect_cols:\n",
        "    Q1 = df1[col].quantile(0.25)\n",
        "    Q3 = df1[col].quantile(0.75)\n",
        "    IQR = Q3 - Q1\n",
        "\n",
        "    lower_bound = Q1 - 1.5 * IQR\n",
        "    upper_bound = Q3 + 1.5 * IQR\n",
        "\n",
        "    # Filter the DataFrame using boolean indexing\n",
        "    outliers = df1[(df1[col] < lower_bound) | (df1[col] > upper_bound)]\n",
        "\n",
        "    if not outliers.empty:\n",
        "        print(f\"Outliers in {col}:\\n{outliers}\")\n",
        "    else:\n",
        "        print(f\"No outliers found in {col}\")"
      ],
      "metadata": {
        "colab": {
          "base_uri": "https://localhost:8080/"
        },
        "collapsed": true,
        "id": "Mg3kh8DuK3Jy",
        "outputId": "e419b829-439f-4d7d-cf32-4d36274a42ec"
      },
      "execution_count": 20,
      "outputs": [
        {
          "output_type": "stream",
          "name": "stdout",
          "text": [
            "Outliers in no_guests:\n",
            "               booking_id  property_id booking_date check_in_date  \\\n",
            "4        May012216558RT15        16558   2022-04-27    2022-05-01   \n",
            "15      May012216558RT116        16558   2022-04-27    2022-05-01   \n",
            "31      May012216558RT214        16558   2022-04-26    2022-05-01   \n",
            "34      May012216558RT217        16558   2022-04-29    2022-05-01   \n",
            "40       May012216558RT32        16558   2022-04-24    2022-05-01   \n",
            "...                   ...          ...          ...           ...   \n",
            "134562  Jul312217564RT213        17564   2022-07-30    2022-07-31   \n",
            "134570   Jul312217564RT32        17564   2022-07-31    2022-07-31   \n",
            "134575   Jul312217564RT37        17564   2022-07-31    2022-07-31   \n",
            "134581   Jul312217564RT42        17564   2022-07-31    2022-07-31   \n",
            "134586   Jul312217564RT47        17564   2022-07-30    2022-07-31   \n",
            "\n",
            "       checkout_date  no_guests room_category booking_platform booking_status  \\\n",
            "4         2022-05-02          4           RT1    direct online    Checked Out   \n",
            "15        2022-05-03          4           RT1          journey    Checked Out   \n",
            "31        2022-05-03          4           RT2           others    Checked Out   \n",
            "34        2022-05-07          4           RT2     makeyourtrip      Cancelled   \n",
            "40        2022-05-06          4           RT3     makeyourtrip    Checked Out   \n",
            "...              ...        ...           ...              ...            ...   \n",
            "134562    2022-08-01          4           RT2           others      Cancelled   \n",
            "134570    2022-08-03          4           RT3          journey      Cancelled   \n",
            "134575    2022-08-03          6           RT3           others    Checked Out   \n",
            "134581    2022-08-01          4           RT4     makeyourtrip    Checked Out   \n",
            "134586    2022-08-01          4           RT4          logtrip    Checked Out   \n",
            "\n",
            "        revenue_generated  revenue_realized  \n",
            "4                   10920             10920  \n",
            "15                  10920             10920  \n",
            "31                  15120             15120  \n",
            "34                  15120              6048  \n",
            "40                  20160             20160  \n",
            "...                   ...               ...  \n",
            "134562              18360              7344  \n",
            "134570              24480              9792  \n",
            "134575              28560             28560  \n",
            "134581              38760             38760  \n",
            "134586              38760             38760  \n",
            "\n",
            "[14932 rows x 11 columns]\n"
          ]
        }
      ]
    },
    {
      "cell_type": "code",
      "source": [
        "# visual of outliers pre-handling\n",
        "plt.figure(figsize=(12,6))\n",
        "\n",
        "plt.subplot(1,3,1)\n",
        "sns.boxplot(x=df1['no_guests'])\n",
        "\n",
        "plt.title(\" Pre-Outliers Visual\")\n",
        "\n",
        "plt.tight_layout()\n",
        "plt.show"
      ],
      "metadata": {
        "colab": {
          "base_uri": "https://localhost:8080/",
          "height": 777
        },
        "collapsed": true,
        "id": "YAdzxMUNLE-o",
        "outputId": "08f6ae5a-567d-4d18-e069-aa6fafc9900f"
      },
      "execution_count": 21,
      "outputs": [
        {
          "output_type": "execute_result",
          "data": {
            "text/plain": [
              "<function matplotlib.pyplot.show(close=None, block=None)>"
            ],
            "text/html": [
              "<div style=\"max-width:800px; border: 1px solid var(--colab-border-color);\"><style>\n",
              "      pre.function-repr-contents {\n",
              "        overflow-x: auto;\n",
              "        padding: 8px 12px;\n",
              "        max-height: 500px;\n",
              "      }\n",
              "\n",
              "      pre.function-repr-contents.function-repr-contents-collapsed {\n",
              "        cursor: pointer;\n",
              "        max-height: 100px;\n",
              "      }\n",
              "    </style>\n",
              "    <pre style=\"white-space: initial; background:\n",
              "         var(--colab-secondary-surface-color); padding: 8px 12px;\n",
              "         border-bottom: 1px solid var(--colab-border-color);\"><b>matplotlib.pyplot.show</b><br/>def show(*args, **kwargs)</pre><pre class=\"function-repr-contents function-repr-contents-collapsed\" style=\"\"><a class=\"filepath\" style=\"display:none\" href=\"#\">/usr/local/lib/python3.10/dist-packages/matplotlib/pyplot.py</a>Display all open figures.\n",
              "\n",
              "Parameters\n",
              "----------\n",
              "block : bool, optional\n",
              "    Whether to wait for all figures to be closed before returning.\n",
              "\n",
              "    If `True` block and run the GUI main loop until all figure windows\n",
              "    are closed.\n",
              "\n",
              "    If `False` ensure that all figure windows are displayed and return\n",
              "    immediately.  In this case, you are responsible for ensuring\n",
              "    that the event loop is running to have responsive figures.\n",
              "\n",
              "    Defaults to True in non-interactive mode and to False in interactive\n",
              "    mode (see `.pyplot.isinteractive`).\n",
              "\n",
              "See Also\n",
              "--------\n",
              "ion : Enable interactive mode, which shows / updates the figure after\n",
              "      every plotting command, so that calling ``show()`` is not necessary.\n",
              "ioff : Disable interactive mode.\n",
              "savefig : Save the figure to an image file instead of showing it on screen.\n",
              "\n",
              "Notes\n",
              "-----\n",
              "**Saving figures to file and showing a window at the same time**\n",
              "\n",
              "If you want an image file as well as a user interface window, use\n",
              "`.pyplot.savefig` before `.pyplot.show`. At the end of (a blocking)\n",
              "``show()`` the figure is closed and thus unregistered from pyplot. Calling\n",
              "`.pyplot.savefig` afterwards would save a new and thus empty figure. This\n",
              "limitation of command order does not apply if the show is non-blocking or\n",
              "if you keep a reference to the figure and use `.Figure.savefig`.\n",
              "\n",
              "**Auto-show in jupyter notebooks**\n",
              "\n",
              "The jupyter backends (activated via ``%matplotlib inline``,\n",
              "``%matplotlib notebook``, or ``%matplotlib widget``), call ``show()`` at\n",
              "the end of every cell by default. Thus, you usually don&#x27;t have to call it\n",
              "explicitly there.</pre>\n",
              "      <script>\n",
              "      if (google.colab.kernel.accessAllowed && google.colab.files && google.colab.files.view) {\n",
              "        for (const element of document.querySelectorAll('.filepath')) {\n",
              "          element.style.display = 'block'\n",
              "          element.onclick = (event) => {\n",
              "            event.preventDefault();\n",
              "            event.stopPropagation();\n",
              "            google.colab.files.view(element.textContent, 482);\n",
              "          };\n",
              "        }\n",
              "      }\n",
              "      for (const element of document.querySelectorAll('.function-repr-contents')) {\n",
              "        element.onclick = (event) => {\n",
              "          event.preventDefault();\n",
              "          event.stopPropagation();\n",
              "          element.classList.toggle('function-repr-contents-collapsed');\n",
              "        };\n",
              "      }\n",
              "      </script>\n",
              "      </div>"
            ]
          },
          "metadata": {},
          "execution_count": 21
        },
        {
          "output_type": "display_data",
          "data": {
            "text/plain": [
              "<Figure size 1200x600 with 1 Axes>"
            ],
            "image/png": "[encoded data removed]"
          },
          "metadata": {}
        }
      ]
    },
    {
      "cell_type": "code",
      "source": [
        "# removing outliers using IQR method\n",
        "Q1 = df1['no_guests'].quantile(0.25)\n",
        "Q3 = df1['no_guests'].quantile(0.75)\n",
        "IQR = Q3 - Q1\n",
        "lower_bound = Q1 - 1.5 * IQR\n",
        "upper_bound = Q3 + 1.5 * IQR\n",
        "df1['no_guests'] = np.clip(df1['no_guests'], lower_bound, upper_bound)"
      ],
      "metadata": {
        "id": "eUM95B9MLQj6"
      },
      "execution_count": 22,
      "outputs": []
    },
    {
      "cell_type": "code",
      "source": [
        "# visual of outliers post-handling\n",
        "plt.figure(figsize=(12,6))\n",
        "\n",
        "plt.subplot(1,3,1)\n",
        "sns.boxplot(x=df1['no_guests'])\n",
        "\n",
        "plt.title(\"Post-Outliers Visual\")\n",
        "\n",
        "plt.tight_layout()\n",
        "plt.show"
      ],
      "metadata": {
        "colab": {
          "base_uri": "https://localhost:8080/",
          "height": 777
        },
        "collapsed": true,
        "id": "ptWmU2uVLqSE",
        "outputId": "ee2ea52d-21a0-4553-fe8a-694dc0296c6d"
      },
      "execution_count": 23,
      "outputs": [
        {
          "output_type": "execute_result",
          "data": {
            "text/plain": [
              "<function matplotlib.pyplot.show(close=None, block=None)>"
            ],
            "text/html": [
              "<div style=\"max-width:800px; border: 1px solid var(--colab-border-color);\"><style>\n",
              "      pre.function-repr-contents {\n",
              "        overflow-x: auto;\n",
              "        padding: 8px 12px;\n",
              "        max-height: 500px;\n",
              "      }\n",
              "\n",
              "      pre.function-repr-contents.function-repr-contents-collapsed {\n",
              "        cursor: pointer;\n",
              "        max-height: 100px;\n",
              "      }\n",
              "    </style>\n",
              "    <pre style=\"white-space: initial; background:\n",
              "         var(--colab-secondary-surface-color); padding: 8px 12px;\n",
              "         border-bottom: 1px solid var(--colab-border-color);\"><b>matplotlib.pyplot.show</b><br/>def show(*args, **kwargs)</pre><pre class=\"function-repr-contents function-repr-contents-collapsed\" style=\"\"><a class=\"filepath\" style=\"display:none\" href=\"#\">/usr/local/lib/python3.10/dist-packages/matplotlib/pyplot.py</a>Display all open figures.\n",
              "\n",
              "Parameters\n",
              "----------\n",
              "block : bool, optional\n",
              "    Whether to wait for all figures to be closed before returning.\n",
              "\n",
              "    If `True` block and run the GUI main loop until all figure windows\n",
              "    are closed.\n",
              "\n",
              "    If `False` ensure that all figure windows are displayed and return\n",
              "    immediately.  In this case, you are responsible for ensuring\n",
              "    that the event loop is running to have responsive figures.\n",
              "\n",
              "    Defaults to True in non-interactive mode and to False in interactive\n",
              "    mode (see `.pyplot.isinteractive`).\n",
              "\n",
              "See Also\n",
              "--------\n",
              "ion : Enable interactive mode, which shows / updates the figure after\n",
              "      every plotting command, so that calling ``show()`` is not necessary.\n",
              "ioff : Disable interactive mode.\n",
              "savefig : Save the figure to an image file instead of showing it on screen.\n",
              "\n",
              "Notes\n",
              "-----\n",
              "**Saving figures to file and showing a window at the same time**\n",
              "\n",
              "If you want an image file as well as a user interface window, use\n",
              "`.pyplot.savefig` before `.pyplot.show`. At the end of (a blocking)\n",
              "``show()`` the figure is closed and thus unregistered from pyplot. Calling\n",
              "`.pyplot.savefig` afterwards would save a new and thus empty figure. This\n",
              "limitation of command order does not apply if the show is non-blocking or\n",
              "if you keep a reference to the figure and use `.Figure.savefig`.\n",
              "\n",
              "**Auto-show in jupyter notebooks**\n",
              "\n",
              "The jupyter backends (activated via ``%matplotlib inline``,\n",
              "``%matplotlib notebook``, or ``%matplotlib widget``), call ``show()`` at\n",
              "the end of every cell by default. Thus, you usually don&#x27;t have to call it\n",
              "explicitly there.</pre>\n",
              "      <script>\n",
              "      if (google.colab.kernel.accessAllowed && google.colab.files && google.colab.files.view) {\n",
              "        for (const element of document.querySelectorAll('.filepath')) {\n",
              "          element.style.display = 'block'\n",
              "          element.onclick = (event) => {\n",
              "            event.preventDefault();\n",
              "            event.stopPropagation();\n",
              "            google.colab.files.view(element.textContent, 482);\n",
              "          };\n",
              "        }\n",
              "      }\n",
              "      for (const element of document.querySelectorAll('.function-repr-contents')) {\n",
              "        element.onclick = (event) => {\n",
              "          event.preventDefault();\n",
              "          event.stopPropagation();\n",
              "          element.classList.toggle('function-repr-contents-collapsed');\n",
              "        };\n",
              "      }\n",
              "      </script>\n",
              "      </div>"
            ]
          },
          "metadata": {},
          "execution_count": 23
        },
        {
          "output_type": "display_data",
          "data": {
            "text/plain": [
              "<Figure size 1200x600 with 1 Axes>"
            ],
            "image/png": "[encoded data removed]"
          },
          "metadata": {}
        }
      ]
    },
    {
      "cell_type": "markdown",
      "source": [
        "### Column: revenue_generated"
      ],
      "metadata": {
        "id": "45HTDEekMXgQ"
      }
    },
    {
      "cell_type": "code",
      "source": [
        "# checking outliers\n",
        "suspect_cols = ['revenue_generated']\n",
        "for col in suspect_cols:\n",
        "    Q1 = df1[col].quantile(0.25)\n",
        "    Q3 = df1[col].quantile(0.75)\n",
        "    IQR = Q3 - Q1\n",
        "\n",
        "    lower_bound = Q1 - 1.5 * IQR\n",
        "    upper_bound = Q3 + 1.5 * IQR\n",
        "\n",
        "    # Filter the DataFrame using boolean indexing\n",
        "    outliers = df1[(df1[col] < lower_bound) | (df1[col] > upper_bound)]\n",
        "\n",
        "    if not outliers.empty:\n",
        "        print(f\"Outliers in {col}:\\n{outliers}\")\n",
        "    else:\n",
        "        print(f\"No outliers found in {col}\")"
      ],
      "metadata": {
        "colab": {
          "base_uri": "https://localhost:8080/"
        },
        "collapsed": true,
        "id": "aBAA9_NVLuO1",
        "outputId": "701999c8-e7c9-4131-90e2-107ff6808697"
      },
      "execution_count": 24,
      "outputs": [
        {
          "output_type": "stream",
          "name": "stdout",
          "text": [
            "Outliers in revenue_generated:\n",
            "               booking_id  property_id booking_date check_in_date  \\\n",
            "137      May012216559RT41        16559   2022-04-27    2022-05-01   \n",
            "138      May012216559RT42        16559   2022-04-11    2022-05-01   \n",
            "139      May012216559RT43        16559   2022-05-01    2022-05-01   \n",
            "140      May012216559RT44        16559   2022-04-28    2022-05-01   \n",
            "141      May012216559RT45        16559   2022-04-28    2022-05-01   \n",
            "...                   ...          ...          ...           ...   \n",
            "134585   Jul312217564RT46        17564   2022-07-29    2022-07-31   \n",
            "134586   Jul312217564RT47        17564   2022-07-30    2022-07-31   \n",
            "134587   Jul312217564RT48        17564   2022-07-30    2022-07-31   \n",
            "134588   Jul312217564RT49        17564   2022-07-29    2022-07-31   \n",
            "134589  Jul312217564RT410        17564   2022-07-31    2022-07-31   \n",
            "\n",
            "       checkout_date  no_guests room_category booking_platform booking_status  \\\n",
            "137       2022-05-07        3.5           RT4           others    Checked Out   \n",
            "138       2022-05-03        2.0           RT4   direct offline      Cancelled   \n",
            "139       2022-05-02        3.5           RT4         tripster    Checked Out   \n",
            "140       2022-05-05        2.0           RT4           others    Checked Out   \n",
            "141       2022-05-04        2.0           RT4           others    Checked Out   \n",
            "...              ...        ...           ...              ...            ...   \n",
            "134585    2022-08-03        1.0           RT4     makeyourtrip    Checked Out   \n",
            "134586    2022-08-01        3.5           RT4          logtrip    Checked Out   \n",
            "134587    2022-08-02        1.0           RT4         tripster      Cancelled   \n",
            "134588    2022-08-01        2.0           RT4          logtrip    Checked Out   \n",
            "134589    2022-08-01        2.0           RT4     makeyourtrip      Cancelled   \n",
            "\n",
            "        revenue_generated  revenue_realized  \n",
            "137                 38760             38760  \n",
            "138                 32300             12920  \n",
            "139                 45220             45220  \n",
            "140                 32300             32300  \n",
            "141                 32300             32300  \n",
            "...                   ...               ...  \n",
            "134585              32300             32300  \n",
            "134586              38760             38760  \n",
            "134587              32300             12920  \n",
            "134588              32300             32300  \n",
            "134589              32300             12920  \n",
            "\n",
            "[6284 rows x 11 columns]\n"
          ]
        }
      ]
    },
    {
      "cell_type": "code",
      "source": [
        "# visual of outliers pre-handling\n",
        "plt.figure(figsize=(12,6))\n",
        "\n",
        "plt.subplot(1,3,1)\n",
        "sns.boxplot(x=df1['revenue_generated'])\n",
        "\n",
        "plt.title(\" Pre-Outliers Visual\")\n",
        "\n",
        "plt.tight_layout()\n",
        "plt.show"
      ],
      "metadata": {
        "colab": {
          "base_uri": "https://localhost:8080/",
          "height": 777
        },
        "collapsed": true,
        "id": "NGr6HPVAMinA",
        "outputId": "91812eb5-b44d-4a22-90d7-571999670032"
      },
      "execution_count": 25,
      "outputs": [
        {
          "output_type": "execute_result",
          "data": {
            "text/plain": [
              "<function matplotlib.pyplot.show(close=None, block=None)>"
            ],
            "text/html": [
              "<div style=\"max-width:800px; border: 1px solid var(--colab-border-color);\"><style>\n",
              "      pre.function-repr-contents {\n",
              "        overflow-x: auto;\n",
              "        padding: 8px 12px;\n",
              "        max-height: 500px;\n",
              "      }\n",
              "\n",
              "      pre.function-repr-contents.function-repr-contents-collapsed {\n",
              "        cursor: pointer;\n",
              "        max-height: 100px;\n",
              "      }\n",
              "    </style>\n",
              "    <pre style=\"white-space: initial; background:\n",
              "         var(--colab-secondary-surface-color); padding: 8px 12px;\n",
              "         border-bottom: 1px solid var(--colab-border-color);\"><b>matplotlib.pyplot.show</b><br/>def show(*args, **kwargs)</pre><pre class=\"function-repr-contents function-repr-contents-collapsed\" style=\"\"><a class=\"filepath\" style=\"display:none\" href=\"#\">/usr/local/lib/python3.10/dist-packages/matplotlib/pyplot.py</a>Display all open figures.\n",
              "\n",
              "Parameters\n",
              "----------\n",
              "block : bool, optional\n",
              "    Whether to wait for all figures to be closed before returning.\n",
              "\n",
              "    If `True` block and run the GUI main loop until all figure windows\n",
              "    are closed.\n",
              "\n",
              "    If `False` ensure that all figure windows are displayed and return\n",
              "    immediately.  In this case, you are responsible for ensuring\n",
              "    that the event loop is running to have responsive figures.\n",
              "\n",
              "    Defaults to True in non-interactive mode and to False in interactive\n",
              "    mode (see `.pyplot.isinteractive`).\n",
              "\n",
              "See Also\n",
              "--------\n",
              "ion : Enable interactive mode, which shows / updates the figure after\n",
              "      every plotting command, so that calling ``show()`` is not necessary.\n",
              "ioff : Disable interactive mode.\n",
              "savefig : Save the figure to an image file instead of showing it on screen.\n",
              "\n",
              "Notes\n",
              "-----\n",
              "**Saving figures to file and showing a window at the same time**\n",
              "\n",
              "If you want an image file as well as a user interface window, use\n",
              "`.pyplot.savefig` before `.pyplot.show`. At the end of (a blocking)\n",
              "``show()`` the figure is closed and thus unregistered from pyplot. Calling\n",
              "`.pyplot.savefig` afterwards would save a new and thus empty figure. This\n",
              "limitation of command order does not apply if the show is non-blocking or\n",
              "if you keep a reference to the figure and use `.Figure.savefig`.\n",
              "\n",
              "**Auto-show in jupyter notebooks**\n",
              "\n",
              "The jupyter backends (activated via ``%matplotlib inline``,\n",
              "``%matplotlib notebook``, or ``%matplotlib widget``), call ``show()`` at\n",
              "the end of every cell by default. Thus, you usually don&#x27;t have to call it\n",
              "explicitly there.</pre>\n",
              "      <script>\n",
              "      if (google.colab.kernel.accessAllowed && google.colab.files && google.colab.files.view) {\n",
              "        for (const element of document.querySelectorAll('.filepath')) {\n",
              "          element.style.display = 'block'\n",
              "          element.onclick = (event) => {\n",
              "            event.preventDefault();\n",
              "            event.stopPropagation();\n",
              "            google.colab.files.view(element.textContent, 482);\n",
              "          };\n",
              "        }\n",
              "      }\n",
              "      for (const element of document.querySelectorAll('.function-repr-contents')) {\n",
              "        element.onclick = (event) => {\n",
              "          event.preventDefault();\n",
              "          event.stopPropagation();\n",
              "          element.classList.toggle('function-repr-contents-collapsed');\n",
              "        };\n",
              "      }\n",
              "      </script>\n",
              "      </div>"
            ]
          },
          "metadata": {},
          "execution_count": 25
        },
        {
          "output_type": "display_data",
          "data": {
            "text/plain": [
              "<Figure size 1200x600 with 1 Axes>"
            ],
            "image/png": "[encoded data removed]"
          },
          "metadata": {}
        }
      ]
    },
    {
      "cell_type": "code",
      "source": [
        "# removing outliers using IQR method\n",
        "Q1 = df1['revenue_generated'].quantile(0.25)\n",
        "Q3 = df1['revenue_generated'].quantile(0.75)\n",
        "IQR = Q3 - Q1\n",
        "lower_bound = Q1 - 1.5 * IQR\n",
        "upper_bound = Q3 + 1.5 * IQR\n",
        "df1['revenue_generated'] = np.clip(df1['revenue_generated'], lower_bound, upper_bound)"
      ],
      "metadata": {
        "id": "iRykyLG4MrEj"
      },
      "execution_count": 26,
      "outputs": []
    },
    {
      "cell_type": "code",
      "source": [
        "# visual of outliers post-handling\n",
        "plt.figure(figsize=(12,6))\n",
        "\n",
        "plt.subplot(1,3,1)\n",
        "sns.boxplot(x=df1['revenue_generated'])\n",
        "\n",
        "plt.title(\"Post-Outliers Visual\")\n",
        "\n",
        "plt.tight_layout()\n",
        "plt.show"
      ],
      "metadata": {
        "colab": {
          "base_uri": "https://localhost:8080/",
          "height": 777
        },
        "collapsed": true,
        "id": "BVMWKFykM180",
        "outputId": "b90b00c9-1de2-4322-9958-bae602f62373"
      },
      "execution_count": 28,
      "outputs": [
        {
          "output_type": "execute_result",
          "data": {
            "text/plain": [
              "<function matplotlib.pyplot.show(close=None, block=None)>"
            ],
            "text/html": [
              "<div style=\"max-width:800px; border: 1px solid var(--colab-border-color);\"><style>\n",
              "      pre.function-repr-contents {\n",
              "        overflow-x: auto;\n",
              "        padding: 8px 12px;\n",
              "        max-height: 500px;\n",
              "      }\n",
              "\n",
              "      pre.function-repr-contents.function-repr-contents-collapsed {\n",
              "        cursor: pointer;\n",
              "        max-height: 100px;\n",
              "      }\n",
              "    </style>\n",
              "    <pre style=\"white-space: initial; background:\n",
              "         var(--colab-secondary-surface-color); padding: 8px 12px;\n",
              "         border-bottom: 1px solid var(--colab-border-color);\"><b>matplotlib.pyplot.show</b><br/>def show(*args, **kwargs)</pre><pre class=\"function-repr-contents function-repr-contents-collapsed\" style=\"\"><a class=\"filepath\" style=\"display:none\" href=\"#\">/usr/local/lib/python3.10/dist-packages/matplotlib/pyplot.py</a>Display all open figures.\n",
              "\n",
              "Parameters\n",
              "----------\n",
              "block : bool, optional\n",
              "    Whether to wait for all figures to be closed before returning.\n",
              "\n",
              "    If `True` block and run the GUI main loop until all figure windows\n",
              "    are closed.\n",
              "\n",
              "    If `False` ensure that all figure windows are displayed and return\n",
              "    immediately.  In this case, you are responsible for ensuring\n",
              "    that the event loop is running to have responsive figures.\n",
              "\n",
              "    Defaults to True in non-interactive mode and to False in interactive\n",
              "    mode (see `.pyplot.isinteractive`).\n",
              "\n",
              "See Also\n",
              "--------\n",
              "ion : Enable interactive mode, which shows / updates the figure after\n",
              "      every plotting command, so that calling ``show()`` is not necessary.\n",
              "ioff : Disable interactive mode.\n",
              "savefig : Save the figure to an image file instead of showing it on screen.\n",
              "\n",
              "Notes\n",
              "-----\n",
              "**Saving figures to file and showing a window at the same time**\n",
              "\n",
              "If you want an image file as well as a user interface window, use\n",
              "`.pyplot.savefig` before `.pyplot.show`. At the end of (a blocking)\n",
              "``show()`` the figure is closed and thus unregistered from pyplot. Calling\n",
              "`.pyplot.savefig` afterwards would save a new and thus empty figure. This\n",
              "limitation of command order does not apply if the show is non-blocking or\n",
              "if you keep a reference to the figure and use `.Figure.savefig`.\n",
              "\n",
              "**Auto-show in jupyter notebooks**\n",
              "\n",
              "The jupyter backends (activated via ``%matplotlib inline``,\n",
              "``%matplotlib notebook``, or ``%matplotlib widget``), call ``show()`` at\n",
              "the end of every cell by default. Thus, you usually don&#x27;t have to call it\n",
              "explicitly there.</pre>\n",
              "      <script>\n",
              "      if (google.colab.kernel.accessAllowed && google.colab.files && google.colab.files.view) {\n",
              "        for (const element of document.querySelectorAll('.filepath')) {\n",
              "          element.style.display = 'block'\n",
              "          element.onclick = (event) => {\n",
              "            event.preventDefault();\n",
              "            event.stopPropagation();\n",
              "            google.colab.files.view(element.textContent, 482);\n",
              "          };\n",
              "        }\n",
              "      }\n",
              "      for (const element of document.querySelectorAll('.function-repr-contents')) {\n",
              "        element.onclick = (event) => {\n",
              "          event.preventDefault();\n",
              "          event.stopPropagation();\n",
              "          element.classList.toggle('function-repr-contents-collapsed');\n",
              "        };\n",
              "      }\n",
              "      </script>\n",
              "      </div>"
            ]
          },
          "metadata": {},
          "execution_count": 28
        },
        {
          "output_type": "display_data",
          "data": {
            "text/plain": [
              "<Figure size 1200x600 with 1 Axes>"
            ],
            "image/png": "[encoded data removed]"
          },
          "metadata": {}
        }
      ]
    },
    {
      "cell_type": "markdown",
      "source": [
        "### Column: revenue_realized"
      ],
      "metadata": {
        "id": "ZmJFW49iNbbh"
      }
    },
    {
      "cell_type": "code",
      "source": [
        "# checking outliers\n",
        "suspect_cols = ['revenue_realized']\n",
        "for col in suspect_cols:\n",
        "    Q1 = df1[col].quantile(0.25)\n",
        "    Q3 = df1[col].quantile(0.75)\n",
        "    IQR = Q3 - Q1\n",
        "\n",
        "    lower_bound = Q1 - 1.5 * IQR\n",
        "    upper_bound = Q3 + 1.5 * IQR\n",
        "\n",
        "    # Filter the DataFrame using boolean indexing\n",
        "    outliers = df1[(df1[col] < lower_bound) | (df1[col] > upper_bound)]\n",
        "\n",
        "    if not outliers.empty:\n",
        "        print(f\"Outliers in {col}:\\n{outliers}\")\n",
        "    else:\n",
        "        print(f\"No outliers found in {col}\")"
      ],
      "metadata": {
        "colab": {
          "base_uri": "https://localhost:8080/"
        },
        "collapsed": true,
        "id": "ANfCYrdPM4Vq",
        "outputId": "3894d8f4-b5b4-4a9d-9080-165293eb2fd2"
      },
      "execution_count": 31,
      "outputs": [
        {
          "output_type": "stream",
          "name": "stdout",
          "text": [
            "Outliers in revenue_realized:\n",
            "              booking_id  property_id booking_date check_in_date  \\\n",
            "111     May012216559RT32        16559   2022-04-29    2022-05-01   \n",
            "113     May012216559RT34        16559   2022-04-10    2022-05-01   \n",
            "137     May012216559RT41        16559   2022-04-27    2022-05-01   \n",
            "139     May012216559RT43        16559   2022-05-01    2022-05-01   \n",
            "140     May012216559RT44        16559   2022-04-28    2022-05-01   \n",
            "...                  ...          ...          ...           ...   \n",
            "134582  Jul312217564RT43        17564   2022-07-31    2022-07-31   \n",
            "134584  Jul312217564RT45        17564   2022-07-30    2022-07-31   \n",
            "134585  Jul312217564RT46        17564   2022-07-29    2022-07-31   \n",
            "134586  Jul312217564RT47        17564   2022-07-30    2022-07-31   \n",
            "134588  Jul312217564RT49        17564   2022-07-29    2022-07-31   \n",
            "\n",
            "       checkout_date  no_guests room_category booking_platform booking_status  \\\n",
            "111       2022-05-02        3.5           RT3    direct online    Checked Out   \n",
            "113       2022-05-02        3.5           RT3          logtrip    Checked Out   \n",
            "137       2022-05-07        3.5           RT4           others    Checked Out   \n",
            "139       2022-05-02        3.5           RT4         tripster    Checked Out   \n",
            "140       2022-05-05        2.0           RT4           others    Checked Out   \n",
            "...              ...        ...           ...              ...            ...   \n",
            "134582    2022-08-03        1.0           RT4           others    Checked Out   \n",
            "134584    2022-08-01        2.0           RT4           others    Checked Out   \n",
            "134585    2022-08-03        1.0           RT4     makeyourtrip    Checked Out   \n",
            "134586    2022-08-01        3.5           RT4          logtrip    Checked Out   \n",
            "134588    2022-08-01        2.0           RT4          logtrip    Checked Out   \n",
            "\n",
            "        revenue_generated  revenue_realized  \n",
            "111                 28560             28560  \n",
            "113                 28560             28560  \n",
            "137                 30150             38760  \n",
            "139                 30150             45220  \n",
            "140                 30150             32300  \n",
            "...                   ...               ...  \n",
            "134582              30150             32300  \n",
            "134584              30150             32300  \n",
            "134585              30150             32300  \n",
            "134586              30150             38760  \n",
            "134588              30150             32300  \n",
            "\n",
            "[6845 rows x 11 columns]\n"
          ]
        }
      ]
    },
    {
      "cell_type": "code",
      "source": [
        "# visual of outliers pre-handling\n",
        "plt.figure(figsize=(12,6))\n",
        "\n",
        "plt.subplot(1,3,1)\n",
        "sns.boxplot(x=df1['revenue_realized'])\n",
        "\n",
        "plt.title(\" Pre-Outliers Visual\")\n",
        "\n",
        "plt.tight_layout()\n",
        "plt.show"
      ],
      "metadata": {
        "colab": {
          "base_uri": "https://localhost:8080/",
          "height": 777
        },
        "collapsed": true,
        "id": "LJ3zaB98NvG4",
        "outputId": "4ba55109-4713-4858-f627-59b59d151172"
      },
      "execution_count": 32,
      "outputs": [
        {
          "output_type": "execute_result",
          "data": {
            "text/plain": [
              "<function matplotlib.pyplot.show(close=None, block=None)>"
            ],
            "text/html": [
              "<div style=\"max-width:800px; border: 1px solid var(--colab-border-color);\"><style>\n",
              "      pre.function-repr-contents {\n",
              "        overflow-x: auto;\n",
              "        padding: 8px 12px;\n",
              "        max-height: 500px;\n",
              "      }\n",
              "\n",
              "      pre.function-repr-contents.function-repr-contents-collapsed {\n",
              "        cursor: pointer;\n",
              "        max-height: 100px;\n",
              "      }\n",
              "    </style>\n",
              "    <pre style=\"white-space: initial; background:\n",
              "         var(--colab-secondary-surface-color); padding: 8px 12px;\n",
              "         border-bottom: 1px solid var(--colab-border-color);\"><b>matplotlib.pyplot.show</b><br/>def show(*args, **kwargs)</pre><pre class=\"function-repr-contents function-repr-contents-collapsed\" style=\"\"><a class=\"filepath\" style=\"display:none\" href=\"#\">/usr/local/lib/python3.10/dist-packages/matplotlib/pyplot.py</a>Display all open figures.\n",
              "\n",
              "Parameters\n",
              "----------\n",
              "block : bool, optional\n",
              "    Whether to wait for all figures to be closed before returning.\n",
              "\n",
              "    If `True` block and run the GUI main loop until all figure windows\n",
              "    are closed.\n",
              "\n",
              "    If `False` ensure that all figure windows are displayed and return\n",
              "    immediately.  In this case, you are responsible for ensuring\n",
              "    that the event loop is running to have responsive figures.\n",
              "\n",
              "    Defaults to True in non-interactive mode and to False in interactive\n",
              "    mode (see `.pyplot.isinteractive`).\n",
              "\n",
              "See Also\n",
              "--------\n",
              "ion : Enable interactive mode, which shows / updates the figure after\n",
              "      every plotting command, so that calling ``show()`` is not necessary.\n",
              "ioff : Disable interactive mode.\n",
              "savefig : Save the figure to an image file instead of showing it on screen.\n",
              "\n",
              "Notes\n",
              "-----\n",
              "**Saving figures to file and showing a window at the same time**\n",
              "\n",
              "If you want an image file as well as a user interface window, use\n",
              "`.pyplot.savefig` before `.pyplot.show`. At the end of (a blocking)\n",
              "``show()`` the figure is closed and thus unregistered from pyplot. Calling\n",
              "`.pyplot.savefig` afterwards would save a new and thus empty figure. This\n",
              "limitation of command order does not apply if the show is non-blocking or\n",
              "if you keep a reference to the figure and use `.Figure.savefig`.\n",
              "\n",
              "**Auto-show in jupyter notebooks**\n",
              "\n",
              "The jupyter backends (activated via ``%matplotlib inline``,\n",
              "``%matplotlib notebook``, or ``%matplotlib widget``), call ``show()`` at\n",
              "the end of every cell by default. Thus, you usually don&#x27;t have to call it\n",
              "explicitly there.</pre>\n",
              "      <script>\n",
              "      if (google.colab.kernel.accessAllowed && google.colab.files && google.colab.files.view) {\n",
              "        for (const element of document.querySelectorAll('.filepath')) {\n",
              "          element.style.display = 'block'\n",
              "          element.onclick = (event) => {\n",
              "            event.preventDefault();\n",
              "            event.stopPropagation();\n",
              "            google.colab.files.view(element.textContent, 482);\n",
              "          };\n",
              "        }\n",
              "      }\n",
              "      for (const element of document.querySelectorAll('.function-repr-contents')) {\n",
              "        element.onclick = (event) => {\n",
              "          event.preventDefault();\n",
              "          event.stopPropagation();\n",
              "          element.classList.toggle('function-repr-contents-collapsed');\n",
              "        };\n",
              "      }\n",
              "      </script>\n",
              "      </div>"
            ]
          },
          "metadata": {},
          "execution_count": 32
        },
        {
          "output_type": "display_data",
          "data": {
            "text/plain": [
              "<Figure size 1200x600 with 1 Axes>"
            ],
            "image/png": "[encoded data removed]"
          },
          "metadata": {}
        }
      ]
    },
    {
      "cell_type": "code",
      "source": [
        "# removing outliers using IQR method\n",
        "Q1 = df1['revenue_realized'].quantile(0.25)\n",
        "Q3 = df1['revenue_realized'].quantile(0.75)\n",
        "IQR = Q3 - Q1\n",
        "lower_bound = Q1 - 1.5 * IQR\n",
        "upper_bound = Q3 + 1.5 * IQR\n",
        "df1['revenue_realized'] = np.clip(df1['revenue_realized'], lower_bound, upper_bound)"
      ],
      "metadata": {
        "id": "UMpdMeosN8VS"
      },
      "execution_count": 35,
      "outputs": []
    },
    {
      "cell_type": "code",
      "source": [
        "# visual of outliers post-handling\n",
        "plt.figure(figsize=(12,6))\n",
        "\n",
        "plt.subplot(1,3,1)\n",
        "sns.boxplot(x=df1['revenue_realized'])\n",
        "\n",
        "plt.title(\"Post-Outliers Visual\")\n",
        "\n",
        "plt.tight_layout()\n",
        "plt.show"
      ],
      "metadata": {
        "collapsed": true,
        "colab": {
          "base_uri": "https://localhost:8080/",
          "height": 777
        },
        "id": "jnHp13Y5OAxY",
        "outputId": "f13d3fb7-ae9b-4825-baeb-48b725d9ebd0"
      },
      "execution_count": 36,
      "outputs": [
        {
          "output_type": "execute_result",
          "data": {
            "text/plain": [
              "<function matplotlib.pyplot.show(close=None, block=None)>"
            ],
            "text/html": [
              "<div style=\"max-width:800px; border: 1px solid var(--colab-border-color);\"><style>\n",
              "      pre.function-repr-contents {\n",
              "        overflow-x: auto;\n",
              "        padding: 8px 12px;\n",
              "        max-height: 500px;\n",
              "      }\n",
              "\n",
              "      pre.function-repr-contents.function-repr-contents-collapsed {\n",
              "        cursor: pointer;\n",
              "        max-height: 100px;\n",
              "      }\n",
              "    </style>\n",
              "    <pre style=\"white-space: initial; background:\n",
              "         var(--colab-secondary-surface-color); padding: 8px 12px;\n",
              "         border-bottom: 1px solid var(--colab-border-color);\"><b>matplotlib.pyplot.show</b><br/>def show(*args, **kwargs)</pre><pre class=\"function-repr-contents function-repr-contents-collapsed\" style=\"\"><a class=\"filepath\" style=\"display:none\" href=\"#\">/usr/local/lib/python3.10/dist-packages/matplotlib/pyplot.py</a>Display all open figures.\n",
              "\n",
              "Parameters\n",
              "----------\n",
              "block : bool, optional\n",
              "    Whether to wait for all figures to be closed before returning.\n",
              "\n",
              "    If `True` block and run the GUI main loop until all figure windows\n",
              "    are closed.\n",
              "\n",
              "    If `False` ensure that all figure windows are displayed and return\n",
              "    immediately.  In this case, you are responsible for ensuring\n",
              "    that the event loop is running to have responsive figures.\n",
              "\n",
              "    Defaults to True in non-interactive mode and to False in interactive\n",
              "    mode (see `.pyplot.isinteractive`).\n",
              "\n",
              "See Also\n",
              "--------\n",
              "ion : Enable interactive mode, which shows / updates the figure after\n",
              "      every plotting command, so that calling ``show()`` is not necessary.\n",
              "ioff : Disable interactive mode.\n",
              "savefig : Save the figure to an image file instead of showing it on screen.\n",
              "\n",
              "Notes\n",
              "-----\n",
              "**Saving figures to file and showing a window at the same time**\n",
              "\n",
              "If you want an image file as well as a user interface window, use\n",
              "`.pyplot.savefig` before `.pyplot.show`. At the end of (a blocking)\n",
              "``show()`` the figure is closed and thus unregistered from pyplot. Calling\n",
              "`.pyplot.savefig` afterwards would save a new and thus empty figure. This\n",
              "limitation of command order does not apply if the show is non-blocking or\n",
              "if you keep a reference to the figure and use `.Figure.savefig`.\n",
              "\n",
              "**Auto-show in jupyter notebooks**\n",
              "\n",
              "The jupyter backends (activated via ``%matplotlib inline``,\n",
              "``%matplotlib notebook``, or ``%matplotlib widget``), call ``show()`` at\n",
              "the end of every cell by default. Thus, you usually don&#x27;t have to call it\n",
              "explicitly there.</pre>\n",
              "      <script>\n",
              "      if (google.colab.kernel.accessAllowed && google.colab.files && google.colab.files.view) {\n",
              "        for (const element of document.querySelectorAll('.filepath')) {\n",
              "          element.style.display = 'block'\n",
              "          element.onclick = (event) => {\n",
              "            event.preventDefault();\n",
              "            event.stopPropagation();\n",
              "            google.colab.files.view(element.textContent, 482);\n",
              "          };\n",
              "        }\n",
              "      }\n",
              "      for (const element of document.querySelectorAll('.function-repr-contents')) {\n",
              "        element.onclick = (event) => {\n",
              "          event.preventDefault();\n",
              "          event.stopPropagation();\n",
              "          element.classList.toggle('function-repr-contents-collapsed');\n",
              "        };\n",
              "      }\n",
              "      </script>\n",
              "      </div>"
            ]
          },
          "metadata": {},
          "execution_count": 36
        },
        {
          "output_type": "display_data",
          "data": {
            "text/plain": [
              "<Figure size 1200x600 with 1 Axes>"
            ],
            "image/png": "[encoded data removed]"
          },
          "metadata": {}
        }
      ]
    },
    {
      "cell_type": "markdown",
      "source": [
        "## **Checking Inconsistencies**"
      ],
      "metadata": {
        "id": "HgMOa5HdOiFu"
      }
    },
    {
      "cell_type": "code",
      "source": [
        "df1.sample()"
      ],
      "metadata": {
        "colab": {
          "base_uri": "https://localhost:8080/",
          "height": 81
        },
        "id": "LipL_kBwOC0w",
        "outputId": "59b28f7a-8c6d-4ca8-dacd-0e2e1948d74e"
      },
      "execution_count": 37,
      "outputs": [
        {
          "output_type": "execute_result",
          "data": {
            "text/plain": [
              "             booking_id  property_id booking_date check_in_date checkout_date  \\\n",
              "13630  May092217563RT46        17563   2022-05-08    2022-05-09    2022-05-10   \n",
              "\n",
              "       no_guests room_category booking_platform booking_status  \\\n",
              "13630        1.0           RT4           others    Checked Out   \n",
              "\n",
              "       revenue_generated  revenue_realized  \n",
              "13630              30150             26850  "
            ],
            "text/html": [
              "\n",
              "  <div id=\"df-c265f88e-0fe6-4ce3-80c7-981938b4546c\" class=\"colab-df-container\">\n",
              "    <div>\n",
              "<style scoped>\n",
              "    .dataframe tbody tr th:only-of-type {\n",
              "        vertical-align: middle;\n",
              "    }\n",
              "\n",
              "    .dataframe tbody tr th {\n",
              "        vertical-align: top;\n",
              "    }\n",
              "\n",
              "    .dataframe thead th {\n",
              "        text-align: right;\n",
              "    }\n",
              "</style>\n",
              "<table border=\"1\" class=\"dataframe\">\n",
              "  <thead>\n",
              "    <tr style=\"text-align: right;\">\n",
              "      <th></th>\n",
              "      <th>booking_id</th>\n",
              "      <th>property_id</th>\n",
              "      <th>booking_date</th>\n",
              "      <th>check_in_date</th>\n",
              "      <th>checkout_date</th>\n",
              "      <th>no_guests</th>\n",
              "      <th>room_category</th>\n",
              "      <th>booking_platform</th>\n",
              "      <th>booking_status</th>\n",
              "      <th>revenue_generated</th>\n",
              "      <th>revenue_realized</th>\n",
              "    </tr>\n",
              "  </thead>\n",
              "  <tbody>\n",
              "    <tr>\n",
              "      <th>13630</th>\n",
              "      <td>May092217563RT46</td>\n",
              "      <td>17563</td>\n",
              "      <td>2022-05-08</td>\n",
              "      <td>2022-05-09</td>\n",
              "      <td>2022-05-10</td>\n",
              "      <td>1.0</td>\n",
              "      <td>RT4</td>\n",
              "      <td>others</td>\n",
              "      <td>Checked Out</td>\n",
              "      <td>30150</td>\n",
              "      <td>26850</td>\n",
              "    </tr>\n",
              "  </tbody>\n",
              "</table>\n",
              "</div>\n",
              "    <div class=\"colab-df-buttons\">\n",
              "\n",
              "  <div class=\"colab-df-container\">\n",
              "    <button class=\"colab-df-convert\" onclick=\"convertToInteractive('df-c265f88e-0fe6-4ce3-80c7-981938b4546c')\"\n",
              "            title=\"Convert this dataframe to an interactive table.\"\n",
              "            style=\"display:none;\">\n",
              "\n",
              "  <svg xmlns=\"http://www.w3.org/2000/svg\" height=\"24px\" viewBox=\"0 -960 960 960\">\n",
              "    <path d=\"M120-120v-720h720v720H120Zm60-500h600v-160H180v160Zm220 220h160v-160H400v160Zm0 220h160v-160H400v160ZM180-400h160v-160H180v160Zm440 0h160v-160H620v160ZM180-180h160v-160H180v160Zm440 0h160v-160H620v160Z\"/>\n",
              "  </svg>\n",
              "    </button>\n",
              "\n",
              "  <style>\n",
              "    .colab-df-container {\n",
              "      display:flex;\n",
              "      gap: 12px;\n",
              "    }\n",
              "\n",
              "    .colab-df-convert {\n",
              "      background-color: #E8F0FE;\n",
              "      border: none;\n",
              "      border-radius: 50%;\n",
              "      cursor: pointer;\n",
              "      display: none;\n",
              "      fill: #1967D2;\n",
              "      height: 32px;\n",
              "      padding: 0 0 0 0;\n",
              "      width: 32px;\n",
              "    }\n",
              "\n",
              "    .colab-df-convert:hover {\n",
              "      background-color: #E2EBFA;\n",
              "      box-shadow: 0px 1px 2px rgba(60, 64, 67, 0.3), 0px 1px 3px 1px rgba(60, 64, 67, 0.15);\n",
              "      fill: #174EA6;\n",
              "    }\n",
              "\n",
              "    .colab-df-buttons div {\n",
              "      margin-bottom: 4px;\n",
              "    }\n",
              "\n",
              "    [theme=dark] .colab-df-convert {\n",
              "      background-color: #3B4455;\n",
              "      fill: #D2E3FC;\n",
              "    }\n",
              "\n",
              "    [theme=dark] .colab-df-convert:hover {\n",
              "      background-color: #434B5C;\n",
              "      box-shadow: 0px 1px 3px 1px rgba(0, 0, 0, 0.15);\n",
              "      filter: drop-shadow(0px 1px 2px rgba(0, 0, 0, 0.3));\n",
              "      fill: #FFFFFF;\n",
              "    }\n",
              "  </style>\n",
              "\n",
              "    <script>\n",
              "      const buttonEl =\n",
              "        document.querySelector('#df-c265f88e-0fe6-4ce3-80c7-981938b4546c button.colab-df-convert');\n",
              "      buttonEl.style.display =\n",
              "        google.colab.kernel.accessAllowed ? 'block' : 'none';\n",
              "\n",
              "      async function convertToInteractive(key) {\n",
              "        const element = document.querySelector('#df-c265f88e-0fe6-4ce3-80c7-981938b4546c');\n",
              "        const dataTable =\n",
              "          await google.colab.kernel.invokeFunction('convertToInteractive',\n",
              "                                                    [key], {});\n",
              "        if (!dataTable) return;\n",
              "\n",
              "        const docLinkHtml = 'Like what you see? Visit the ' +\n",
              "          '<a target=\"_blank\" href=https://colab.research.google.com/notebooks/data_table.ipynb>data table notebook</a>'\n",
              "          + ' to learn more about interactive tables.';\n",
              "        element.innerHTML = '';\n",
              "        dataTable['output_type'] = 'display_data';\n",
              "        await google.colab.output.renderOutput(dataTable, element);\n",
              "        const docLink = document.createElement('div');\n",
              "        docLink.innerHTML = docLinkHtml;\n",
              "        element.appendChild(docLink);\n",
              "      }\n",
              "    </script>\n",
              "  </div>\n",
              "\n",
              "\n",
              "    </div>\n",
              "  </div>\n"
            ],
            "application/vnd.google.colaboratory.intrinsic+json": {
              "type": "dataframe",
              "repr_error": "0"
            }
          },
          "metadata": {},
          "execution_count": 37
        }
      ]
    },
    {
      "cell_type": "code",
      "source": [
        "# checking data types of different columns pre-handling\n",
        "df1.dtypes"
      ],
      "metadata": {
        "colab": {
          "base_uri": "https://localhost:8080/",
          "height": 429
        },
        "id": "FHCjqspJPp6w",
        "outputId": "27aa413b-69d3-4556-c4b3-d4b30ad68b1b"
      },
      "execution_count": 38,
      "outputs": [
        {
          "output_type": "execute_result",
          "data": {
            "text/plain": [
              "booking_id            object\n",
              "property_id            int64\n",
              "booking_date          object\n",
              "check_in_date         object\n",
              "checkout_date         object\n",
              "no_guests            float64\n",
              "room_category         object\n",
              "booking_platform      object\n",
              "booking_status        object\n",
              "revenue_generated      int64\n",
              "revenue_realized       int64\n",
              "dtype: object"
            ],
            "text/html": [
              "<div>\n",
              "<style scoped>\n",
              "    .dataframe tbody tr th:only-of-type {\n",
              "        vertical-align: middle;\n",
              "    }\n",
              "\n",
              "    .dataframe tbody tr th {\n",
              "        vertical-align: top;\n",
              "    }\n",
              "\n",
              "    .dataframe thead th {\n",
              "        text-align: right;\n",
              "    }\n",
              "</style>\n",
              "<table border=\"1\" class=\"dataframe\">\n",
              "  <thead>\n",
              "    <tr style=\"text-align: right;\">\n",
              "      <th></th>\n",
              "      <th>0</th>\n",
              "    </tr>\n",
              "  </thead>\n",
              "  <tbody>\n",
              "    <tr>\n",
              "      <th>booking_id</th>\n",
              "      <td>object</td>\n",
              "    </tr>\n",
              "    <tr>\n",
              "      <th>property_id</th>\n",
              "      <td>int64</td>\n",
              "    </tr>\n",
              "    <tr>\n",
              "      <th>booking_date</th>\n",
              "      <td>object</td>\n",
              "    </tr>\n",
              "    <tr>\n",
              "      <th>check_in_date</th>\n",
              "      <td>object</td>\n",
              "    </tr>\n",
              "    <tr>\n",
              "      <th>checkout_date</th>\n",
              "      <td>object</td>\n",
              "    </tr>\n",
              "    <tr>\n",
              "      <th>no_guests</th>\n",
              "      <td>float64</td>\n",
              "    </tr>\n",
              "    <tr>\n",
              "      <th>room_category</th>\n",
              "      <td>object</td>\n",
              "    </tr>\n",
              "    <tr>\n",
              "      <th>booking_platform</th>\n",
              "      <td>object</td>\n",
              "    </tr>\n",
              "    <tr>\n",
              "      <th>booking_status</th>\n",
              "      <td>object</td>\n",
              "    </tr>\n",
              "    <tr>\n",
              "      <th>revenue_generated</th>\n",
              "      <td>int64</td>\n",
              "    </tr>\n",
              "    <tr>\n",
              "      <th>revenue_realized</th>\n",
              "      <td>int64</td>\n",
              "    </tr>\n",
              "  </tbody>\n",
              "</table>\n",
              "</div><br><label><b>dtype:</b> object</label>"
            ]
          },
          "metadata": {},
          "execution_count": 38
        }
      ]
    },
    {
      "cell_type": "code",
      "source": [
        "# correcting the incorrect data types of columns\n",
        "df1[['booking_date', 'check_in_date',\t'checkout_date']] = df1[['booking_date', 'check_in_date',\t'checkout_date']].astype('datetime64[ns]')"
      ],
      "metadata": {
        "id": "WW7mlsHLPrrS"
      },
      "execution_count": 39,
      "outputs": []
    },
    {
      "cell_type": "code",
      "source": [
        "# confirming the data types post-handling\n",
        "df1.dtypes"
      ],
      "metadata": {
        "colab": {
          "base_uri": "https://localhost:8080/",
          "height": 429
        },
        "collapsed": true,
        "id": "1LXXz_MOQsqv",
        "outputId": "942d2813-8a3d-40be-87d5-f1543ff3650e"
      },
      "execution_count": 40,
      "outputs": [
        {
          "output_type": "execute_result",
          "data": {
            "text/plain": [
              "booking_id                   object\n",
              "property_id                   int64\n",
              "booking_date         datetime64[ns]\n",
              "check_in_date        datetime64[ns]\n",
              "checkout_date        datetime64[ns]\n",
              "no_guests                   float64\n",
              "room_category                object\n",
              "booking_platform             object\n",
              "booking_status               object\n",
              "revenue_generated             int64\n",
              "revenue_realized              int64\n",
              "dtype: object"
            ],
            "text/html": [
              "<div>\n",
              "<style scoped>\n",
              "    .dataframe tbody tr th:only-of-type {\n",
              "        vertical-align: middle;\n",
              "    }\n",
              "\n",
              "    .dataframe tbody tr th {\n",
              "        vertical-align: top;\n",
              "    }\n",
              "\n",
              "    .dataframe thead th {\n",
              "        text-align: right;\n",
              "    }\n",
              "</style>\n",
              "<table border=\"1\" class=\"dataframe\">\n",
              "  <thead>\n",
              "    <tr style=\"text-align: right;\">\n",
              "      <th></th>\n",
              "      <th>0</th>\n",
              "    </tr>\n",
              "  </thead>\n",
              "  <tbody>\n",
              "    <tr>\n",
              "      <th>booking_id</th>\n",
              "      <td>object</td>\n",
              "    </tr>\n",
              "    <tr>\n",
              "      <th>property_id</th>\n",
              "      <td>int64</td>\n",
              "    </tr>\n",
              "    <tr>\n",
              "      <th>booking_date</th>\n",
              "      <td>datetime64[ns]</td>\n",
              "    </tr>\n",
              "    <tr>\n",
              "      <th>check_in_date</th>\n",
              "      <td>datetime64[ns]</td>\n",
              "    </tr>\n",
              "    <tr>\n",
              "      <th>checkout_date</th>\n",
              "      <td>datetime64[ns]</td>\n",
              "    </tr>\n",
              "    <tr>\n",
              "      <th>no_guests</th>\n",
              "      <td>float64</td>\n",
              "    </tr>\n",
              "    <tr>\n",
              "      <th>room_category</th>\n",
              "      <td>object</td>\n",
              "    </tr>\n",
              "    <tr>\n",
              "      <th>booking_platform</th>\n",
              "      <td>object</td>\n",
              "    </tr>\n",
              "    <tr>\n",
              "      <th>booking_status</th>\n",
              "      <td>object</td>\n",
              "    </tr>\n",
              "    <tr>\n",
              "      <th>revenue_generated</th>\n",
              "      <td>int64</td>\n",
              "    </tr>\n",
              "    <tr>\n",
              "      <th>revenue_realized</th>\n",
              "      <td>int64</td>\n",
              "    </tr>\n",
              "  </tbody>\n",
              "</table>\n",
              "</div><br><label><b>dtype:</b> object</label>"
            ]
          },
          "metadata": {},
          "execution_count": 40
        }
      ]
    },
    {
      "cell_type": "code",
      "source": [
        "df1['no_guests'] = df1['no_guests'].astype('int64')"
      ],
      "metadata": {
        "id": "xGktOkliQwyt"
      },
      "execution_count": 42,
      "outputs": []
    },
    {
      "cell_type": "code",
      "source": [
        "df1.dtypes"
      ],
      "metadata": {
        "colab": {
          "base_uri": "https://localhost:8080/",
          "height": 429
        },
        "id": "Xwp0C-3zTJHe",
        "outputId": "08c4bb32-a32a-43fc-ecd2-55d1dbfa6f7e"
      },
      "execution_count": 43,
      "outputs": [
        {
          "output_type": "execute_result",
          "data": {
            "text/plain": [
              "booking_id                   object\n",
              "property_id                   int64\n",
              "booking_date         datetime64[ns]\n",
              "check_in_date        datetime64[ns]\n",
              "checkout_date        datetime64[ns]\n",
              "no_guests                     int64\n",
              "room_category                object\n",
              "booking_platform             object\n",
              "booking_status               object\n",
              "revenue_generated             int64\n",
              "revenue_realized              int64\n",
              "dtype: object"
            ],
            "text/html": [
              "<div>\n",
              "<style scoped>\n",
              "    .dataframe tbody tr th:only-of-type {\n",
              "        vertical-align: middle;\n",
              "    }\n",
              "\n",
              "    .dataframe tbody tr th {\n",
              "        vertical-align: top;\n",
              "    }\n",
              "\n",
              "    .dataframe thead th {\n",
              "        text-align: right;\n",
              "    }\n",
              "</style>\n",
              "<table border=\"1\" class=\"dataframe\">\n",
              "  <thead>\n",
              "    <tr style=\"text-align: right;\">\n",
              "      <th></th>\n",
              "      <th>0</th>\n",
              "    </tr>\n",
              "  </thead>\n",
              "  <tbody>\n",
              "    <tr>\n",
              "      <th>booking_id</th>\n",
              "      <td>object</td>\n",
              "    </tr>\n",
              "    <tr>\n",
              "      <th>property_id</th>\n",
              "      <td>int64</td>\n",
              "    </tr>\n",
              "    <tr>\n",
              "      <th>booking_date</th>\n",
              "      <td>datetime64[ns]</td>\n",
              "    </tr>\n",
              "    <tr>\n",
              "      <th>check_in_date</th>\n",
              "      <td>datetime64[ns]</td>\n",
              "    </tr>\n",
              "    <tr>\n",
              "      <th>checkout_date</th>\n",
              "      <td>datetime64[ns]</td>\n",
              "    </tr>\n",
              "    <tr>\n",
              "      <th>no_guests</th>\n",
              "      <td>int64</td>\n",
              "    </tr>\n",
              "    <tr>\n",
              "      <th>room_category</th>\n",
              "      <td>object</td>\n",
              "    </tr>\n",
              "    <tr>\n",
              "      <th>booking_platform</th>\n",
              "      <td>object</td>\n",
              "    </tr>\n",
              "    <tr>\n",
              "      <th>booking_status</th>\n",
              "      <td>object</td>\n",
              "    </tr>\n",
              "    <tr>\n",
              "      <th>revenue_generated</th>\n",
              "      <td>int64</td>\n",
              "    </tr>\n",
              "    <tr>\n",
              "      <th>revenue_realized</th>\n",
              "      <td>int64</td>\n",
              "    </tr>\n",
              "  </tbody>\n",
              "</table>\n",
              "</div><br><label><b>dtype:</b> object</label>"
            ]
          },
          "metadata": {},
          "execution_count": 43
        }
      ]
    },
    {
      "cell_type": "code",
      "source": [
        "df1.sample()"
      ],
      "metadata": {
        "colab": {
          "base_uri": "https://localhost:8080/",
          "height": 81
        },
        "id": "TQtu8wNrVXm_",
        "outputId": "a6de54f7-4eae-4b9d-939f-f07aa446eec8"
      },
      "execution_count": 45,
      "outputs": [
        {
          "output_type": "execute_result",
          "data": {
            "text/plain": [
              "             booking_id  property_id booking_date check_in_date checkout_date  \\\n",
              "65231  Jun132219561RT26        19561   2022-05-23    2022-06-13    2022-06-14   \n",
              "\n",
              "       no_guests room_category booking_platform booking_status  \\\n",
              "65231          2           RT2          journey      Cancelled   \n",
              "\n",
              "       revenue_generated  revenue_realized  \n",
              "65231              13500              5400  "
            ],
            "text/html": [
              "\n",
              "  <div id=\"df-4fc09d01-0dac-4fa9-abc8-c9456ef71bda\" class=\"colab-df-container\">\n",
              "    <div>\n",
              "<style scoped>\n",
              "    .dataframe tbody tr th:only-of-type {\n",
              "        vertical-align: middle;\n",
              "    }\n",
              "\n",
              "    .dataframe tbody tr th {\n",
              "        vertical-align: top;\n",
              "    }\n",
              "\n",
              "    .dataframe thead th {\n",
              "        text-align: right;\n",
              "    }\n",
              "</style>\n",
              "<table border=\"1\" class=\"dataframe\">\n",
              "  <thead>\n",
              "    <tr style=\"text-align: right;\">\n",
              "      <th></th>\n",
              "      <th>booking_id</th>\n",
              "      <th>property_id</th>\n",
              "      <th>booking_date</th>\n",
              "      <th>check_in_date</th>\n",
              "      <th>checkout_date</th>\n",
              "      <th>no_guests</th>\n",
              "      <th>room_category</th>\n",
              "      <th>booking_platform</th>\n",
              "      <th>booking_status</th>\n",
              "      <th>revenue_generated</th>\n",
              "      <th>revenue_realized</th>\n",
              "    </tr>\n",
              "  </thead>\n",
              "  <tbody>\n",
              "    <tr>\n",
              "      <th>65231</th>\n",
              "      <td>Jun132219561RT26</td>\n",
              "      <td>19561</td>\n",
              "      <td>2022-05-23</td>\n",
              "      <td>2022-06-13</td>\n",
              "      <td>2022-06-14</td>\n",
              "      <td>2</td>\n",
              "      <td>RT2</td>\n",
              "      <td>journey</td>\n",
              "      <td>Cancelled</td>\n",
              "      <td>13500</td>\n",
              "      <td>5400</td>\n",
              "    </tr>\n",
              "  </tbody>\n",
              "</table>\n",
              "</div>\n",
              "    <div class=\"colab-df-buttons\">\n",
              "\n",
              "  <div class=\"colab-df-container\">\n",
              "    <button class=\"colab-df-convert\" onclick=\"convertToInteractive('df-4fc09d01-0dac-4fa9-abc8-c9456ef71bda')\"\n",
              "            title=\"Convert this dataframe to an interactive table.\"\n",
              "            style=\"display:none;\">\n",
              "\n",
              "  <svg xmlns=\"http://www.w3.org/2000/svg\" height=\"24px\" viewBox=\"0 -960 960 960\">\n",
              "    <path d=\"M120-120v-720h720v720H120Zm60-500h600v-160H180v160Zm220 220h160v-160H400v160Zm0 220h160v-160H400v160ZM180-400h160v-160H180v160Zm440 0h160v-160H620v160ZM180-180h160v-160H180v160Zm440 0h160v-160H620v160Z\"/>\n",
              "  </svg>\n",
              "    </button>\n",
              "\n",
              "  <style>\n",
              "    .colab-df-container {\n",
              "      display:flex;\n",
              "      gap: 12px;\n",
              "    }\n",
              "\n",
              "    .colab-df-convert {\n",
              "      background-color: #E8F0FE;\n",
              "      border: none;\n",
              "      border-radius: 50%;\n",
              "      cursor: pointer;\n",
              "      display: none;\n",
              "      fill: #1967D2;\n",
              "      height: 32px;\n",
              "      padding: 0 0 0 0;\n",
              "      width: 32px;\n",
              "    }\n",
              "\n",
              "    .colab-df-convert:hover {\n",
              "      background-color: #E2EBFA;\n",
              "      box-shadow: 0px 1px 2px rgba(60, 64, 67, 0.3), 0px 1px 3px 1px rgba(60, 64, 67, 0.15);\n",
              "      fill: #174EA6;\n",
              "    }\n",
              "\n",
              "    .colab-df-buttons div {\n",
              "      margin-bottom: 4px;\n",
              "    }\n",
              "\n",
              "    [theme=dark] .colab-df-convert {\n",
              "      background-color: #3B4455;\n",
              "      fill: #D2E3FC;\n",
              "    }\n",
              "\n",
              "    [theme=dark] .colab-df-convert:hover {\n",
              "      background-color: #434B5C;\n",
              "      box-shadow: 0px 1px 3px 1px rgba(0, 0, 0, 0.15);\n",
              "      filter: drop-shadow(0px 1px 2px rgba(0, 0, 0, 0.3));\n",
              "      fill: #FFFFFF;\n",
              "    }\n",
              "  </style>\n",
              "\n",
              "    <script>\n",
              "      const buttonEl =\n",
              "        document.querySelector('#df-4fc09d01-0dac-4fa9-abc8-c9456ef71bda button.colab-df-convert');\n",
              "      buttonEl.style.display =\n",
              "        google.colab.kernel.accessAllowed ? 'block' : 'none';\n",
              "\n",
              "      async function convertToInteractive(key) {\n",
              "        const element = document.querySelector('#df-4fc09d01-0dac-4fa9-abc8-c9456ef71bda');\n",
              "        const dataTable =\n",
              "          await google.colab.kernel.invokeFunction('convertToInteractive',\n",
              "                                                    [key], {});\n",
              "        if (!dataTable) return;\n",
              "\n",
              "        const docLinkHtml = 'Like what you see? Visit the ' +\n",
              "          '<a target=\"_blank\" href=https://colab.research.google.com/notebooks/data_table.ipynb>data table notebook</a>'\n",
              "          + ' to learn more about interactive tables.';\n",
              "        element.innerHTML = '';\n",
              "        dataTable['output_type'] = 'display_data';\n",
              "        await google.colab.output.renderOutput(dataTable, element);\n",
              "        const docLink = document.createElement('div');\n",
              "        docLink.innerHTML = docLinkHtml;\n",
              "        element.appendChild(docLink);\n",
              "      }\n",
              "    </script>\n",
              "  </div>\n",
              "\n",
              "\n",
              "    </div>\n",
              "  </div>\n"
            ],
            "application/vnd.google.colaboratory.intrinsic+json": {
              "type": "dataframe",
              "summary": "{\n  \"name\": \"df1\",\n  \"rows\": 1,\n  \"fields\": [\n    {\n      \"column\": \"booking_id\",\n      \"properties\": {\n        \"dtype\": \"string\",\n        \"num_unique_values\": 1,\n        \"samples\": [\n          \"Jun132219561RT26\"\n        ],\n        \"semantic_type\": \"\",\n        \"description\": \"\"\n      }\n    },\n    {\n      \"column\": \"property_id\",\n      \"properties\": {\n        \"dtype\": \"number\",\n        \"std\": null,\n        \"min\": 19561,\n        \"max\": 19561,\n        \"num_unique_values\": 1,\n        \"samples\": [\n          19561\n        ],\n        \"semantic_type\": \"\",\n        \"description\": \"\"\n      }\n    },\n    {\n      \"column\": \"booking_date\",\n      \"properties\": {\n        \"dtype\": \"date\",\n        \"min\": \"2022-05-23 00:00:00\",\n        \"max\": \"2022-05-23 00:00:00\",\n        \"num_unique_values\": 1,\n        \"samples\": [\n          \"2022-05-23 00:00:00\"\n        ],\n        \"semantic_type\": \"\",\n        \"description\": \"\"\n      }\n    },\n    {\n      \"column\": \"check_in_date\",\n      \"properties\": {\n        \"dtype\": \"date\",\n        \"min\": \"2022-06-13 00:00:00\",\n        \"max\": \"2022-06-13 00:00:00\",\n        \"num_unique_values\": 1,\n        \"samples\": [\n          \"2022-06-13 00:00:00\"\n        ],\n        \"semantic_type\": \"\",\n        \"description\": \"\"\n      }\n    },\n    {\n      \"column\": \"checkout_date\",\n      \"properties\": {\n        \"dtype\": \"date\",\n        \"min\": \"2022-06-14 00:00:00\",\n        \"max\": \"2022-06-14 00:00:00\",\n        \"num_unique_values\": 1,\n        \"samples\": [\n          \"2022-06-14 00:00:00\"\n        ],\n        \"semantic_type\": \"\",\n        \"description\": \"\"\n      }\n    },\n    {\n      \"column\": \"no_guests\",\n      \"properties\": {\n        \"dtype\": \"number\",\n        \"std\": null,\n        \"min\": 2,\n        \"max\": 2,\n        \"num_unique_values\": 1,\n        \"samples\": [\n          2\n        ],\n        \"semantic_type\": \"\",\n        \"description\": \"\"\n      }\n    },\n    {\n      \"column\": \"room_category\",\n      \"properties\": {\n        \"dtype\": \"string\",\n        \"num_unique_values\": 1,\n        \"samples\": [\n          \"RT2\"\n        ],\n        \"semantic_type\": \"\",\n        \"description\": \"\"\n      }\n    },\n    {\n      \"column\": \"booking_platform\",\n      \"properties\": {\n        \"dtype\": \"string\",\n        \"num_unique_values\": 1,\n        \"samples\": [\n          \"journey\"\n        ],\n        \"semantic_type\": \"\",\n        \"description\": \"\"\n      }\n    },\n    {\n      \"column\": \"booking_status\",\n      \"properties\": {\n        \"dtype\": \"string\",\n        \"num_unique_values\": 1,\n        \"samples\": [\n          \"Cancelled\"\n        ],\n        \"semantic_type\": \"\",\n        \"description\": \"\"\n      }\n    },\n    {\n      \"column\": \"revenue_generated\",\n      \"properties\": {\n        \"dtype\": \"number\",\n        \"std\": null,\n        \"min\": 13500,\n        \"max\": 13500,\n        \"num_unique_values\": 1,\n        \"samples\": [\n          13500\n        ],\n        \"semantic_type\": \"\",\n        \"description\": \"\"\n      }\n    },\n    {\n      \"column\": \"revenue_realized\",\n      \"properties\": {\n        \"dtype\": \"number\",\n        \"std\": null,\n        \"min\": 5400,\n        \"max\": 5400,\n        \"num_unique_values\": 1,\n        \"samples\": [\n          5400\n        ],\n        \"semantic_type\": \"\",\n        \"description\": \"\"\n      }\n    }\n  ]\n}"
            }
          },
          "metadata": {},
          "execution_count": 45
        }
      ]
    },
    {
      "cell_type": "code",
      "source": [
        "df1.to_csv(\"facts booking cleaned.csv\", index = False)"
      ],
      "metadata": {
        "id": "73-13v9hVZwC"
      },
      "execution_count": 46,
      "outputs": []
    }
  ]
}